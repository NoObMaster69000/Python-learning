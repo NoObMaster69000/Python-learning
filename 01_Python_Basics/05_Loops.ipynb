{
 "cells": [
  {
   "cell_type": "markdown",
   "metadata": {},
   "source": [
    "# 🔁 Complete Guide to Python Loops: From Basics to Advanced\n",
    "\n",
    "**Goal:** Master all types of looping techniques, from basic `for` and `while` to advanced patterns like `enumerate`, `tqdm`, and vectorized alternatives, to make your code more efficient and professional."
   ]
  },
  {
   "cell_type": "markdown",
   "metadata": {},
   "source": [
    "## 🟢 Level 1: Basic Looping (Beginner)"
   ]
  },
  {
   "cell_type": "markdown",
   "metadata": {},
   "source": [
    "### 1. `for` Loop – The Workhorse\n",
    "Iterate over sequences: lists, strings, tuples, etc."
   ]
  },
  {
   "cell_type": "code",
   "execution_count": null,
   "metadata": {},
   "outputs": [],
   "source": [
    "fruits = [\"apple\", \"banana\", \"cherry\"]\n",
    "for fruit in fruits:\n",
    "    print(fruit)"
   ]
  },
  {
   "cell_type": "markdown",
   "metadata": {},
   "source": [
    "### 2. `range()` Function – Loop with Numbers\n",
    "Generate sequences of numbers."
   ]
  },
  {
   "cell_type": "code",
   "execution_count": null,
   "metadata": {},
   "outputs": [],
   "source": [
    "print(\"Looping from 0 to 4:\")\n",
    "for i in range(5):\n",
    "    print(i)\n",
    "\n",
    "print(\"\\nLooping from 2 to 7:\")\n",
    "for i in range(2, 8):\n",
    "    print(i)\n",
    "\n",
    "print(\"\\nLooping from 0 to 10 with a step of 2:\")\n",
    "for i in range(0, 10, 2):\n",
    "    print(i)"
   ]
  },
  {
   "cell_type": "markdown",
   "metadata": {},
   "source": [
    "### 3. `while` Loop – Conditional Repetition\n",
    "Run while a condition is `True`. **Danger:** Can cause infinite loops if the condition never becomes `False`."
   ]
  },
  {
   "cell_type": "code",
   "execution_count": null,
   "metadata": {},
   "outputs": [],
   "source": [
    "count = 0\n",
    "while count < 5:\n",
    "    print(count)\n",
    "    count += 1"
   ]
  },
  {
   "cell_type": "markdown",
   "metadata": {},
   "source": [
    "### 4. Loop Control Statements\n",
    "- `break` – Exit the loop early\n",
    "- `continue` – Skip to next iteration\n",
    "- `pass` – Placeholder (do nothing)"
   ]
  },
  {
   "cell_type": "code",
   "execution_count": null,
   "metadata": {},
   "outputs": [],
   "source": [
    "for i in range(10):\n",
    "    if i == 3:\n",
    "        print(\"Skipping 3 with 'continue'\")\n",
    "        continue\n",
    "    if i == 7:\n",
    "        print(\"Stopping loop with 'break' at 7\")\n",
    "        break\n",
    "    print(i)"
   ]
  },
  {
   "cell_type": "markdown",
   "metadata": {},
   "source": [
    "## 🟡 Level 2: Intermediate Looping Techniques"
   ]
  },
  {
   "cell_type": "markdown",
   "metadata": {},
   "source": [
    "### 5. Looping Backward (Reverse Iteration)"
   ]
  },
  {
   "cell_type": "code",
   "execution_count": null,
   "metadata": {},
   "outputs": [],
   "source": [
    "print(\"Method 1: reversed()\")\n",
    "for i in reversed(range(5)):\n",
    "    print(i)\n",
    "\n",
    "print(\"\\nMethod 2: negative step\")\n",
    "for i in range(4, -1, -1):\n",
    "    print(i)"
   ]
  },
  {
   "cell_type": "markdown",
   "metadata": {},
   "source": [
    "### 6. `enumerate()` – Loop with Index\n",
    "Get both index and value in one go."
   ]
  },
  {
   "cell_type": "code",
   "execution_count": null,
   "metadata": {},
   "outputs": [],
   "source": [
    "fruits = [\"apple\", \"banana\", \"cherry\"]\n",
    "for i, fruit in enumerate(fruits, start=1):\n",
    "    print(f\"{i}. {fruit}\")"
   ]
  },
  {
   "cell_type": "markdown",
   "metadata": {},
   "source": [
    "### 7. `zip()` – Loop Over Multiple Sequences\n",
    "Pair items from multiple lists. Stops at the shortest list."
   ]
  },
  {
   "cell_type": "code",
   "execution_count": null,
   "metadata": {},
   "outputs": [],
   "source": [
    "names = [\"Alice\", \"Bob\", \"Charlie\"]\n",
    "ages = [25, 30, 35]\n",
    "\n",
    "for name, age in zip(names, ages):\n",
    "    print(f\"{name} is {age} years old\")"
   ]
  },
  {
   "cell_type": "markdown",
   "metadata": {},
   "source": [
    "### 8. List, Dict, and Set Comprehensions\n",
    "A concise, Pythonic alternative to loops for creating collections."
   ]
  },
  {
   "cell_type": "code",
   "execution_count": null,
   "metadata": {},
   "outputs": [],
   "source": [
    "squares = [i**2 for i in range(10)]\n",
    "print(f\"Squares: {squares}\")\n",
    "\n",
    "evens = [i for i in range(10) if i % 2 == 0]\n",
    "print(f\"Evens: {evens}\")\n",
    "\n",
    "name_lengths = {name: len(name) for name in names}\n",
    "print(f\"Name lengths dict: {name_lengths}\")"
   ]
  },
  {
   "cell_type": "markdown",
   "metadata": {},
   "source": [
    "### 9. Nested Loops\n",
    "A loop inside another loop. Be careful with performance on large datasets (O(n²))."
   ]
  },
  {
   "cell_type": "code",
   "execution_count": null,
   "metadata": {},
   "outputs": [],
   "source": [
    "for i in range(3):\n",
    "    for j in range(2):\n",
    "        print(f\"i={i}, j={j}\")"
   ]
  },
  {
   "cell_type": "markdown",
   "metadata": {},
   "source": [
    "## 🟠 Level 3: Advanced Looping Patterns"
   ]
  },
  {
   "cell_type": "markdown",
   "metadata": {},
   "source": [
    "### 10. `else` Clause in Loops\n",
    "Runs only if the loop completes **without** being exited by a `break` statement."
   ]
  },
  {
   "cell_type": "code",
   "execution_count": null,
   "metadata": {},
   "outputs": [],
   "source": [
    "items = [\"apple\", \"banana\", \"orange\"]\n",
    "target = \"banana\"\n",
    "\n",
    "for item in items:\n",
    "    if item == target:\n",
    "        print(f\"Found {target}!\")\n",
    "        break\n",
    "else:\n",
    "    print(f\"{target} not found in the list.\")"
   ]
  },
  {
   "cell_type": "markdown",
   "metadata": {},
   "source": [
    "### 11. `itertools` – Advanced Looping Tools\n",
    "A powerful module for creating complex and memory-efficient iterators."
   ]
  },
  {
   "cell_type": "code",
   "execution_count": null,
   "metadata": {},
   "outputs": [],
   "source": [
    "import itertools\n",
    "\n",
    "print(\"Combinations:\")\n",
    "for combo in itertools.combinations([1, 2, 3], 2):\n",
    "    print(combo)\n",
    "\n",
    "print(\"\\nChained iterables:\")\n",
    "for x in itertools.chain([1, 2], 'ab'):\n",
    "    print(x)"
   ]
  },
  {
   "cell_type": "markdown",
   "metadata": {},
   "source": [
    "### 12. `tqdm` – Progress Bars for Loops\n",
    "Provides a simple way to add a smart progress bar to your loops."
   ]
  },
  {
   "cell_type": "code",
   "execution_count": null,
   "metadata": {},
   "outputs": [],
   "source": [
    "# You may need to run: !pip install tqdm\n",
    "from tqdm.notebook import tqdm\n",
    "import time\n",
    "\n",
    "for i in tqdm(range(1000), desc=\"Processing...\"):\n",
    "    time.sleep(0.001)"
   ]
  },
  {
   "cell_type": "markdown",
   "metadata": {},
   "source": [
    "### 13. Looping with Generators & `yield`\n",
    "Memory-efficient iteration for large or infinite datasets."
   ]
  },
  {
   "cell_type": "code",
   "execution_count": null,
   "metadata": {},
   "outputs": [],
   "source": [
    "def count_up_to(n):\n",
    "    i = 1\n",
    "    while i <= n:\n",
    "        yield i\n",
    "        i += 1\n",
    "\n",
    "for num in count_up_to(10):\n",
    "    print(num)"
   ]
  },
  {
   "cell_type": "markdown",
   "metadata": {},
   "source": [
    "### 14. Unpacking in Loops\n",
    "A clean way to handle iterables of tuples or dictionary items."
   ]
  },
  {
   "cell_type": "code",
   "execution_count": null,
   "metadata": {},
   "outputs": [],
   "source": [
    "ages = {\"Alice\": 25, \"Bob\": 30}\n",
    "for name, age in ages.items():\n",
    "    print(f\"{name} is {age}\")"
   ]
  },
  {
   "cell_type": "markdown",
   "metadata": {},
   "source": [
    "## 🔴 Level 4: Loop Optimization & Alternatives"
   ]
  },
  {
   "cell_type": "markdown",
   "metadata": {},
   "source": [
    "### 15. Avoiding Loops: Vectorization with NumPy/Pandas\n",
    "For numerical data, vectorized operations are significantly faster than Python loops."
   ]
  },
  {
   "cell_type": "code",
   "execution_count": null,
   "metadata": {},
   "outputs": [],
   "source": [
    "# You may need to run: !pip install numpy\n",
    "import numpy as np\n",
    "arr = np.arange(1, 5)\n",
    "squared = arr ** 2\n",
    "print(f\"Original array: {arr}\")\n",
    "print(f\"Squared array (no loop!): {squared}\")"
   ]
  },
  {
   "cell_type": "markdown",
   "metadata": {},
   "source": [
    "### 16. Using `map()`, `filter()`, `reduce()`\n",
    "Functional programming alternatives to loops."
   ]
  },
  {
   "cell_type": "code",
   "execution_count": null,
   "metadata": {},
   "outputs": [],
   "source": [
    "from functools import reduce\n",
    "\n",
    "numbers = [1, 2, 3, 4]\n",
    "squares = list(map(lambda x: x**2, numbers))\n",
    "evens = list(filter(lambda x: x % 2 == 0, numbers))\n",
    "total = reduce(lambda a, b: a + b, numbers)\n",
    "\n",
    "print(f\"Map (squares): {squares}\")\n",
    "print(f\"Filter (evens): {evens}\")\n",
    "print(f\"Reduce (total): {total}\")"
   ]
  },
  {
   "cell_type": "markdown",
   "metadata": {},
   "source": [
    "### 17. List Slicing for Subsets\n",
    "Avoid loops when you just need part of a list."
   ]
  },
  {
   "cell_type": "code",
   "execution_count": null,
   "metadata": {},
   "outputs": [],
   "source": [
    "data = [0, 1, 2, 3, 4, 5, 6, 7, 8, 9]\n",
    "first_five = data[:5]\n",
    "last_three = data[-3:]\n",
    "even_indices = data[::2]\n",
    "print(f\"First five: {first_five}\")"
   ]
  },
  {
   "cell_type": "markdown",
   "metadata": {},
   "source": [
    "### 18. Using `any()` and `all()`\n",
    "Replace loops for simple boolean checks."
   ]
  },
  {
   "cell_type": "code",
   "execution_count": null,
   "metadata": {},
   "outputs": [],
   "source": [
    "numbers = [-1, 2, 3, -4, 5]\n",
    "\n",
    "has_negative = any(x < 0 for x in numbers)\n",
    "print(f\"Are there any negative numbers? {has_negative}\")\n",
    "\n",
    "all_positive = all(x > 0 for x in numbers)\n",
    "print(f\"Are all numbers positive? {all_positive}\")"
   ]
  },
  {
   "cell_type": "markdown",
   "metadata": {},
   "source": [
    "---"
   ]
  },
  {
   "cell_type": "markdown",
   "metadata": {},
   "source": [
    "## 🛠️ Practice Exercises\n",
    "\n",
    "1.  **Easy:** Use `enumerate` to print the index and value for each item in the `fruits` list.\n",
    "2.  **Intermediate:** Use a list comprehension to create a list of the lengths of each word in the `fruits` list.\n",
    "3.  **Advanced:** Write a generator function that yields the first `n` prime numbers. Use a `for...else` loop inside to check for primality."
   ]
  }
 ],
 "metadata": {
  "kernelspec": {
   "display_name": "Python 3",
   "language": "python",
   "name": "python3"
  },
  "language_info": {
   "codemirror_mode": {
    "name": "ipython",
    "version": 3
   },
   "file_extension": ".py",
   "mimetype": "text/x-python",
   "name": "python",
   "nbconvert_exporter": "python",
   "pygments_lexer": "ipython3",
   "version": "3.9.7"
  }
 },
 "nbformat": 4,
 "nbformat_minor": 2
}
