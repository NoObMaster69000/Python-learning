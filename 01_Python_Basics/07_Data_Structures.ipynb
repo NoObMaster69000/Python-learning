{
 "cells": [
  {
   "cell_type": "markdown",
   "metadata": {},
   "source": [
    "# 🟢 7. Data Structures: List, Tuple, Set, & Dictionary\n",
    "\n",
    "**Goal:** Learn to store and organize collections of data efficiently.\n",
    "\n",
    "Data structures are essential for managing related data. Python's built-in structures are powerful and versatile.\n",
    "\n",
    "| Structure | Mutability | Ordered | Syntax | Use Case |\n",
    "|---|---|---|---|---|\n",
    "| **List** `[]` | ✅ Yes | ✅ | `[1,2,3]` | General-purpose, ordered collection |\n",
    "| **Tuple** `()` | ❌ No | ✅ | `(1,2)` | Fixed data (e.g., coordinates) |\n",
    "| **Set** `{}` | ✅ | ❌ | `{1,2,3}` | Unique items, fast math operations |\n",
    "| **Dictionary** `{}`| ✅ | ✅ (3.7+) | `{\"k\": \"v\"}` | Key-value mapping |"
   ]
  },
  {
   "cell_type": "markdown",
   "metadata": {},
   "source": [
    "### 1. Lists `[]`\n",
    "\n",
    "Lists are ordered, mutable (changeable) collections of items. They can hold items of different data types."
   ]
  },
  {
   "cell_type": "code",
   "execution_count": null,
   "metadata": {},
   "outputs": [],
   "source": [
    "numbers = [1, 2, 3, 4, 5]\n",
    "mixed_list = [\"apple\", 3.14, True, None]\n",
    "\n",
    "# Accessing elements (like strings)\n",
    "print(f\"First number: {numbers[0]}\")\n",
    "print(f\"Last number: {numbers[-1]}\")\n",
    "\n",
    "# Slicing\n",
    "print(f\"Slice [1:4]: {numbers[1:4]}\")\n",
    "\n",
    "# Modifying a list\n",
    "numbers[0] = 100\n",
    "print(f\"Modified list: {numbers}\")\n",
    "\n",
    "# List methods\n",
    "numbers.append(6) # Add to the end\n",
    "print(f\"Appended: {numbers}\")\n",
    "\n",
    "numbers.pop() # Remove from the end\n",
    "print(f\"Popped: {numbers}\")\n",
    "\n",
    "numbers.remove(3) # Remove a specific value\n",
    "print(f\"Removed 3: {numbers}\")\n",
    "\n",
    "print(f\"Length of list: {len(numbers)}\")"
   ]
  },
  {
   "cell_type": "markdown",
   "metadata": {},
   "source": [
    "#### List Comprehensions\n",
    "A concise and powerful way to create lists."
   ]
  },
  {
   "cell_type": "code",
   "execution_count": null,
   "metadata": {},
   "outputs": [],
   "source": [
    "# Classic way to make a list of squares\n",
    "squares_classic = []\n",
    "for i in range(5):\n",
    "    squares_classic.append(i**2)\n",
    "print(f\"Classic: {squares_classic}\")\n",
    "\n",
    "# List comprehension way\n",
    "squares_comp = [i**2 for i in range(5)]\n",
    "print(f\"Comprehension: {squares_comp}\")"
   ]
  },
  {
   "cell_type": "markdown",
   "metadata": {},
   "source": [
    "---"
   ]
  },
  {
   "cell_type": "markdown",
   "metadata": {},
   "source": [
    "### 2. Tuples `()`\n",
    "\n",
    "Tuples are ordered, **immutable** (unchangeable) collections. Once a tuple is created, you cannot add, remove, or change its elements. They are often used for data that should not be modified, like coordinates or database records."
   ]
  },
  {
   "cell_type": "code",
   "execution_count": null,
   "metadata": {},
   "outputs": [],
   "source": [
    "point = (10, 20) # A 2D coordinate\n",
    "colors = ('red', 'green', 'blue')\n",
    "\n",
    "# Accessing elements (just like lists)\n",
    "print(f\"x-coordinate: {point[0]}\")\n",
    "\n",
    "# Trying to change a tuple will cause an error\n",
    "try:\n",
    "    point[0] = 15\n",
    "except TypeError as e:\n",
    "    print(f\"Error: {e}\")"
   ]
  },
  {
   "cell_type": "markdown",
   "metadata": {},
   "source": [
    "---"
   ]
  },
  {
   "cell_type": "markdown",
   "metadata": {},
   "source": [
    "### 3. Sets `{}`\n",
    "\n",
    "Sets are **unordered** collections of **unique** items. They are highly optimized for checking if an element is present in the set and for mathematical set operations."
   ]
  },
  {
   "cell_type": "code",
   "execution_count": null,
   "metadata": {},
   "outputs": [],
   "source": [
    "unique_numbers = {1, 2, 3, 4, 4, 4, 5} # Duplicates are automatically removed\n",
    "print(f\"Set: {unique_numbers}\")\n",
    "\n",
    "# Set methods\n",
    "unique_numbers.add(6)\n",
    "print(f\"Added 6: {unique_numbers}\")\n",
    "\n",
    "unique_numbers.remove(2)\n",
    "print(f\"Removed 2: {unique_numbers}\")\n",
    "\n",
    "# Set operations\n",
    "set_a = {1, 2, 3, 4}\n",
    "set_b = {3, 4, 5, 6}\n",
    "\n",
    "print(f\"Union (all unique items): {set_a.union(set_b)}\")\n",
    "print(f\"Intersection (items in both): {set_a.intersection(set_b)}\")\n",
    "print(f\"Difference (in a but not b): {set_a.difference(set_b)}\")"
   ]
  },
  {
   "cell_type": "markdown",
   "metadata": {},
   "source": [
    "---"
   ]
  },
  {
   "cell_type": "markdown",
   "metadata": {},
   "source": [
    "### 4. Dictionaries `{}`\n",
    "\n",
    "Dictionaries are collections of **key-value pairs**. They are ordered (in Python 3.7+), mutable, and indexed by a unique key."
   ]
  },
  {
   "cell_type": "code",
   "execution_count": null,
   "metadata": {},
   "outputs": [],
   "source": [
    "person = {\n",
    "    \"name\": \"Alice\",\n",
    "    \"age\": 30,\n",
    "    \"city\": \"New York\"\n",
    "}\n",
    "\n",
    "# Accessing values by key\n",
    "print(f\"Name: {person['name']}\")\n",
    "\n",
    "# Using the .get() method (safer, returns None if key doesn't exist)\n",
    "print(f\"Job: {person.get('job', 'Not specified')}\")\n",
    "\n",
    "# Modifying a dictionary\n",
    "person['age'] = 31\n",
    "person['job'] = 'Software Engineer'\n",
    "print(f\"Updated person: {person}\")\n",
    "\n",
    "# Dictionary methods\n",
    "print(f\"Keys: {person.keys()}\")\n",
    "print(f\"Values: {person.values()}\")\n",
    "print(f\"Items (key-value pairs): {person.items()}\")"
   ]
  },
  {
   "cell_type": "markdown",
   "metadata": {},
   "source": [
    "---"
   ]
  },
  {
   "cell_type": "markdown",
   "metadata": {},
   "source": [
    "### ✍️ Exercises"
   ]
  },
  {
   "cell_type": "markdown",
   "metadata": {},
   "source": [
    "**Exercise 1:** Create a list of three of your favorite movies. Add a fourth movie to the list and then print the second movie in the list."
   ]
  },
  {
   "cell_type": "code",
   "execution_count": null,
   "metadata": {},
   "outputs": [],
   "source": [
    "# Your code here"
   ]
  },
  {
   "cell_type": "markdown",
   "metadata": {},
   "source": [
    "**Exercise 2:** Create a dictionary to store information about a book: `title`, `author`, and `year_published`. Print the author's name."
   ]
  },
  {
   "cell_type": "code",
   "execution_count": null,
   "metadata": {},
   "outputs": [],
   "source": [
    "# Your code here"
   ]
  },
  {
   "cell_type": "markdown",
   "metadata": {},
   "source": [
    "**Exercise 3:** You have a list of numbers with duplicates: `numbers = [1, 5, 2, 8, 2, 5, 9, 1]`. Use a set to find how many *unique* numbers are in the list."
   ]
  },
  {
   "cell_type": "code",
   "execution_count": null,
   "metadata": {},
   "outputs": [],
   "source": [
    "numbers = [1, 5, 2, 8, 2, 5, 9, 1]\n",
    "# Your code here"
   ]
  },
  {
   "cell_type": "markdown",
   "metadata": {},
   "source": [
    "---"
   ]
  },
  {
   "cell_type": "markdown",
   "metadata": {},
   "source": [
    "### ❓ Quiz"
   ]
  },
  {
   "cell_type": "markdown",
   "metadata": {},
   "source": [
    "**Question 1:** What is the value of `my_list[2]` after this code runs?"
   ]
  },
  {
   "cell_type": "code",
   "execution_count": null,
   "metadata": {},
   "outputs": [],
   "source": [
    "my_list = [10, 20, 30, 40]\n",
    "my_list.append(50)\n",
    "my_list.pop(0)"
   ]
  },
  {
   "cell_type": "markdown",
   "metadata": {},
   "source": [
    "**Your Answer:** "
   ]
  },
  {
   "cell_type": "markdown",
   "metadata": {},
   "source": [
    "**Question 2:** What will be printed by this code?"
   ]
  },
  {
   "cell_type": "code",
   "execution_count": null,
   "metadata": {},
   "outputs": [],
   "source": [
    "car = {\"make\": \"Ford\", \"model\": \"Mustang\"}\n",
    "print(car.get(\"year\", 1969))"
   ]
  },
  {
   "cell_type": "markdown",
   "metadata": {},
   "source": [
    "**Your Answer:** "
   ]
  },
  {
   "cell_type": "markdown",
   "metadata": {},
   "source": [
    "---"
   ]
  },
  {
   "cell_type": "markdown",
   "metadata": {},
   "source": [
    "Congratulations! You have completed the entire Python Basics section. You now have a strong foundation to build upon.\n",
    "\n",
    "**Next up: Level 2 - Functions & Modularity.**"
   ]
  }
 ],
 "metadata": {
  "kernelspec": {
   "display_name": "Python 3",
   "language": "python",
   "name": "python3"
  },
  "language_info": {
   "codemirror_mode": {
    "name": "ipython",
    "version": 3
   },
   "file_extension": ".py",
   "mimetype": "text/x-python",
   "name": "python",
   "nbconvert_exporter": "python",
   "pygments_lexer": "ipython3",
   "version": "3.9.7"
  }
 },
 "nbformat": 4,
 "nbformat_minor": 2
}
