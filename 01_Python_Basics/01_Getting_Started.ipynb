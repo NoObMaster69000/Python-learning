{
 "cells": [
  {
   "cell_type": "markdown",
   "metadata": {},
   "source": [
    "# 🟢 1. Getting Started with Python\n",
    "\n",
    "**Goal:** Write simple scripts and understand basic Python commands.\n",
    "\n",
    "This notebook covers the absolute basics of Python:\n",
    "1.  **Running Python:** How to execute code.\n",
    "2.  **`print()`:** How to display output.\n",
    "3.  **`input()`:** How to get information from a user.\n",
    "4.  **Comments:** How to leave notes in your code."
   ]
  },
  {
   "cell_type": "markdown",
   "metadata": {},
   "source": [
    "### Installing and Running Python\n",
    "\n",
    "Before you can write code, you need Python installed. You can get it from [python.org](https://python.org) or use a distribution like [Anaconda](https://www.anaconda.com/products/distribution), which is popular for data science as it comes with many useful libraries pre-installed.\n",
    "\n",
    "You can run Python code in several ways:\n",
    "- **Jupyter Notebook (like this one!):** Great for interactive, step-by-step code execution.\n",
    "- **Integrated Development Environment (IDE) like VS Code or PyCharm:** Powerful tools for managing large projects.\n",
    "- **The Terminal/Command Prompt:** By typing `python` to start an interactive session or `python your_script.py` to run a file."
   ]
  },
  {
   "cell_type": "markdown",
   "metadata": {},
   "source": [
    "---"
   ]
  },
  {
   "cell_type": "markdown",
   "metadata": {},
   "source": [
    "### The `print()` Function\n",
    "\n",
    "The `print()` function is the most common way to see the output of your code. It displays text, numbers, or the value of variables to the console.\n",
    "\n",
    "> 💡 **Use Case:** Checking the value of a variable, showing a message to the user, or debugging."
   ]
  },
  {
   "cell_type": "code",
   "execution_count": null,
   "metadata": {},
   "outputs": [],
   "source": [
    "# This is a code cell. Click on it and press Shift+Enter to run it.\n",
    "print(\"Hello, World!\")"
   ]
  },
  {
   "cell_type": "code",
   "execution_count": null,
   "metadata": {},
   "outputs": [],
   "source": [
    "# You can print numbers, too.\n",
    "print(123)\n",
    "\n",
    "# And you can print the result of calculations.\n",
    "print(10 + 5)"
   ]
  },
  {
   "cell_type": "markdown",
   "metadata": {},
   "source": [
    "---"
   ]
  },
  {
   "cell_type": "markdown",
   "metadata": {},
   "source": [
    "### Comments\n",
    "\n",
    "Comments are notes in your code that are ignored by the Python interpreter. They are for humans to read.\n",
    "\n",
    "- **Single-line comments** start with a `#`.\n",
    "- **Multi-line comments** can be created using triple quotes `'''` or `\"\"\"` (though these are technically multi-line strings, they are often used for this purpose)."
   ]
  },
  {
   "cell_type": "code",
   "execution_count": null,
   "metadata": {},
   "outputs": [],
   "source": [
    "# This is a single-line comment. It won't affect the code.\n",
    "print(\"This line will be executed.\")\n",
    "\n",
    "'''\n",
    "This is a multi-line comment (or docstring).\n",
    "Everything in here is ignored.\n",
    "print(\"This won't run.\")\n",
    "'''\n",
    "print(\"We are back to executing code.\")"
   ]
  },
  {
   "cell_type": "markdown",
   "metadata": {},
   "source": [
    "---"
   ]
  },
  {
   "cell_type": "markdown",
   "metadata": {},
   "source": [
    "### The `input()` Function\n",
    "\n",
    "The `input()` function prompts the user to enter text and reads it. It's a great way to make your scripts interactive.\n",
    "\n",
    "> 💡 **Important:** `input()` always returns the user's entry as a **string**, even if they type numbers."
   ]
  },
  {
   "cell_type": "code",
   "execution_count": null,
   "metadata": {},
   "outputs": [],
   "source": [
    "# The text inside input() is the prompt shown to the user.\n",
    "user_name = input(\"What is your name? \")\n",
    "\n",
    "# Now we can use the data we collected.\n",
    "print(\"Hello, \" + user_name + \"!\")"
   ]
  },
  {
   "cell_type": "markdown",
   "metadata": {},
   "source": [
    "---"
   ]
  },
  {
   "cell_type": "markdown",
   "metadata": {},
   "source": [
    "### ✍️ Exercises\n",
    "\n",
    "Time to practice! Write code in the cells below to complete the tasks."
   ]
  },
  {
   "cell_type": "markdown",
   "metadata": {},
   "source": [
    "**Exercise 1:** Print your favorite quote."
   ]
  },
  {
   "cell_type": "code",
   "execution_count": null,
   "metadata": {},
   "outputs": [],
   "source": [
    "# Your code here"
   ]
  },
  {
   "cell_type": "markdown",
   "metadata": {},
   "source": [
    "**Exercise 2:** Ask the user for their favorite color and then print a message saying \"Your favorite color is [color].\""
   ]
  },
  {
   "cell_type": "code",
   "execution_count": null,
   "metadata": {},
   "outputs": [],
   "source": [
    "# Your code here"
   ]
  },
  {
   "cell_type": "markdown",
   "metadata": {},
   "source": [
    "**Exercise 3:** Write a script that prints three different facts about Python, each on a new line. Add a comment at the top of the script with your name."
   ]
  },
  {
   "cell_type": "code",
   "execution_count": null,
   "metadata": {},
   "outputs": [],
   "source": [
    "# Your code here"
   ]
  },
  {
   "cell_type": "markdown",
   "metadata": {},
   "source": [
    "---"
   ]
  },
  {
   "cell_type": "markdown",
   "metadata": {},
   "source": [
    "### ❓ Quiz\n",
    "\n",
    "Test your knowledge! What do you think the output of the following code snippets will be? Write your answer in the markdown cell below each snippet."
   ]
  },
  {
   "cell_type": "markdown",
   "metadata": {},
   "source": [
    "**Question 1:** What will this code print?"
   ]
  },
  {
   "cell_type": "code",
   "execution_count": null,
   "metadata": {},
   "outputs": [],
   "source": [
    "print(\"Line 1\")\n",
    "# print(\"Line 2\")\n",
    "print(\"Line 3\")"
   ]
  },
  {
   "cell_type": "markdown",
   "metadata": {},
   "source": [
    "**Your Answer:** "
   ]
  },
  {
   "cell_type": "markdown",
   "metadata": {},
   "source": [
    "**Question 2:** If a user types `10` when prompted, what will this code print?"
   ]
  },
  {
   "cell_type": "code",
   "execution_count": null,
   "metadata": {},
   "outputs": [],
   "source": [
    "age = input(\"Enter your age: \")\n",
    "print(age + 5)"
   ]
  },
  {
   "cell_type": "markdown",
   "metadata": {},
   "source": [
    "**Your Answer:** "
   ]
  },
  {
   "cell_type": "markdown",
   "metadata": {},
   "source": [
    "---"
   ]
  },
  {
   "cell_type": "markdown",
   "metadata": {},
   "source": [
    "Congratulations on completing the first notebook! You're on your way to becoming a Python programmer. 🚀\n",
    "\n",
    "**Next up: Variables & Data Types.**"
   ]
  }
 ],
 "metadata": {
  "kernelspec": {
   "display_name": "Python 3",
   "language": "python",
   "name": "python3"
  },
  "language_info": {
   "codemirror_mode": {
    "name": "ipython",
    "version": 3
   },
   "file_extension": ".py",
   "mimetype": "text/x-python",
   "name": "python",
   "nbconvert_exporter": "python",
   "pygments_lexer": "ipython3",
   "version": "3.9.7"
  }
 },
 "nbformat": 4,
 "nbformat_minor": 2
}
