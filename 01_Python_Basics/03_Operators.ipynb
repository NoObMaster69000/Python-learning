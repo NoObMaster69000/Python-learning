{
 "cells": [
  {
   "cell_type": "markdown",
   "metadata": {},
   "source": [
    "# 🟢 3. Operators\n",
    "\n",
    "**Goal:** Understand how to perform operations on data.\n",
    "\n",
    "Operators are special symbols in Python that carry out arithmetic or logical computation. The value that the operator works on is called the operand.\n",
    "\n",
    "This notebook covers:\n",
    "1.  **Arithmetic Operators:** For mathematical calculations.\n",
    "2.  **Comparison Operators:** For comparing values.\n",
    "3.  **Logical Operators:** For combining conditional statements.\n",
    "4.  **Assignment Operators:** For assigning values to variables."
   ]
  },
  {
   "cell_type": "markdown",
   "metadata": {},
   "source": [
    "### 1. Arithmetic Operators\n",
    "\n",
    "These are used to perform common mathematical operations."
   ]
  },
  {
   "cell_type": "code",
   "execution_count": null,
   "metadata": {},
   "outputs": [],
   "source": [
    "a = 10\n",
    "b = 3\n",
    "\n",
    "# Addition (+)\n",
    "print(f\"{a} + {b} = {a + b}\")\n",
    "\n",
    "# Subtraction (-)\n",
    "print(f\"{a} - {b} = {a - b}\")\n",
    "\n",
    "# Multiplication (*)\n",
    "print(f\"{a} * {b} = {a * b}\")\n",
    "\n",
    "# Division (/)\n",
    "print(f\"{a} / {b} = {a / b}\") # Division always results in a float\n",
    "\n",
    "# Floor Division (//)\n",
    "print(f\"{a} // {b} = {a // b}\") # Discards the fractional part\n",
    "\n",
    "# Modulus (%)\n",
    "print(f\"{a} % {b} = {a % b}\") # Gives the remainder\n",
    "\n",
    "# Exponent (**)\n",
    "print(f\"{a} ** {b} = {a ** b}\") # a to the power of b"
   ]
  },
  {
   "cell_type": "markdown",
   "metadata": {},
   "source": [
    "---"
   ]
  },
  {
   "cell_type": "markdown",
   "metadata": {},
   "source": [
    "### 2. Comparison Operators\n",
    "\n",
    "These operators compare two values and return a Boolean result (`True` or `False`)."
   ]
  },
  {
   "cell_type": "code",
   "execution_count": null,
   "metadata": {},
   "outputs": [],
   "source": [
    "x = 5\n",
    "y = 10\n",
    "\n",
    "# Equal to (==)\n",
    "print(f\"{x} == {y} is {x == y}\")\n",
    "\n",
    "# Not equal to (!=)\n",
    "print(f\"{x} != {y} is {x != y}\")\n",
    "\n",
    "# Greater than (>)\n",
    "print(f\"{x} > {y} is {x > y}\")\n",
    "\n",
    "# Less than (<)\n",
    "print(f\"{x} < {y} is {x < y}\")\n",
    "\n",
    "# Greater than or equal to (>=)\n",
    "print(f\"{x} >= 5 is {x >= 5}\")\n",
    "\n",
    "# Less than or equal to (<=)\n",
    "print(f\"{y} <= 5 is {y <= 5}\")"
   ]
  },
  {
   "cell_type": "markdown",
   "metadata": {},
   "source": [
    "---"
   ]
  },
  {
   "cell_type": "markdown",
   "metadata": {},
   "source": [
    "### 3. Logical Operators\n",
    "\n",
    "These are used to combine conditional statements."
   ]
  },
  {
   "cell_type": "code",
   "execution_count": null,
   "metadata": {},
   "outputs": [],
   "source": [
    "has_permission = True\n",
    "is_logged_in = False\n",
    "\n",
    "# and: Returns True if both statements are true\n",
    "print(f\"Can access content? {has_permission and is_logged_in}\")\n",
    "\n",
    "# or: Returns True if one of the statements is true\n",
    "print(f\"Can see login button? {has_permission or is_logged_in}\")\n",
    "\n",
    "# not: Reverses the result, returns False if the result is true\n",
    "print(f\"Is not logged in? {not is_logged_in}\")"
   ]
  },
  {
   "cell_type": "markdown",
   "metadata": {},
   "source": [
    "---"
   ]
  },
  {
   "cell_type": "markdown",
   "metadata": {},
   "source": [
    "### 4. Assignment Operators\n",
    "\n",
    "These are used to assign values to variables. You've already seen the basic one, `=`. Others are shortcuts for performing an operation and assigning the result."
   ]
  },
  {
   "cell_type": "code",
   "execution_count": null,
   "metadata": {},
   "outputs": [],
   "source": [
    "count = 5\n",
    "print(f\"Initial count: {count}\")\n",
    "\n",
    "# Add and assign (+=)\n",
    "count += 2  # Equivalent to: count = count + 2\n",
    "print(f\"After count += 2: {count}\")\n",
    "\n",
    "# Subtract and assign (-=)\n",
    "count -= 3  # Equivalent to: count = count - 3\n",
    "print(f\"After count -= 3: {count}\")\n",
    "\n",
    "# Multiply and assign (*=)\n",
    "count *= 4  # Equivalent to: count = count * 4\n",
    "print(f\"After count *= 4: {count}\")"
   ]
  },
  {
   "cell_type": "markdown",
   "metadata": {},
   "source": [
    "---"
   ]
  },
  {
   "cell_type": "markdown",
   "metadata": {},
   "source": [
    "### ✍️ Exercises"
   ]
  },
  {
   "cell_type": "markdown",
   "metadata": {},
   "source": [
    "**Exercise 1:** You have $100. You buy a book for $15.50 and a coffee for $3.25. How much money do you have left? Use variables and arithmetic operators."
   ]
  },
  {
   "cell_type": "code",
   "execution_count": null,
   "metadata": {},
   "outputs": [],
   "source": [
    "# Your code here"
   ]
  },
  {
   "cell_type": "markdown",
   "metadata": {},
   "source": [
    "**Exercise 2:** Write a script that checks if a number `x` is between 1 and 10 (inclusive). Use comparison and logical operators. Test it with `x = 7`."
   ]
  },
  {
   "cell_type": "code",
   "execution_count": null,
   "metadata": {},
   "outputs": [],
   "source": [
    "x = 7\n",
    "# Your code here"
   ]
  },
  {
   "cell_type": "markdown",
   "metadata": {},
   "source": [
    "**Exercise 3:** A movie ticket costs $12. You are a student (`is_student = True`) and it's a Tuesday (`is_tuesday = True`). You get a $2 discount if you're a student OR it's a Tuesday. You get a $4 discount if you're a student AND it's a Tuesday. Calculate the final ticket price."
   ]
  },
  {
   "cell_type": "code",
   "execution_count": null,
   "metadata": {},
   "outputs": [],
   "source": [
    "ticket_price = 12\n",
    "is_student = True\n",
    "is_tuesday = True\n",
    "\n",
    "# Your code here"
   ]
  },
  {
   "cell_type": "markdown",
   "metadata": {},
   "source": [
    "---"
   ]
  },
  {
   "cell_type": "markdown",
   "metadata": {},
   "source": [
    "### ❓ Quiz"
   ]
  },
  {
   "cell_type": "markdown",
   "metadata": {},
   "source": [
    "**Question 1:** What is the value of `result`?"
   ]
  },
  {
   "cell_type": "code",
   "execution_count": null,
   "metadata": {},
   "outputs": [],
   "source": [
    "result = 15 % 4\n",
    "print(result)"
   ]
  },
  {
   "cell_type": "markdown",
   "metadata": {},
   "source": [
    "**Your Answer:** "
   ]
  },
  {
   "cell_type": "markdown",
   "metadata": {},
   "source": [
    "**Question 2:** What will be printed to the screen?"
   ]
  },
  {
   "cell_type": "code",
   "execution_count": null,
   "metadata": {},
   "outputs": [],
   "source": [
    "x = 10\n",
    "y = 10\n",
    "z = 11\n",
    "\n",
    "print(x == y and z > y)"
   ]
  },
  {
   "cell_type": "markdown",
   "metadata": {},
   "source": [
    "**Your Answer:** "
   ]
  },
  {
   "cell_type": "markdown",
   "metadata": {},
   "source": [
    "---"
   ]
  },
  {
   "cell_type": "markdown",
   "metadata": {},
   "source": [
    "Great job! Operators are the verbs of programming, allowing you to act on your data.\n",
    "\n",
    "**Next up: Control Flow.**"
   ]
  }
 ],
 "metadata": {
  "kernelspec": {
   "display_name": "Python 3",
   "language": "python",
   "name": "python3"
  },
  "language_info": {
   "codemirror_mode": {
    "name": "ipython",
    "version": 3
   },
   "file_extension": ".py",
   "mimetype": "text/x-python",
   "name": "python",
   "nbconvert_exporter": "python",
   "pygments_lexer": "ipython3",
   "version": "3.9.7"
  }
 },
 "nbformat": 4,
 "nbformat_minor": 2
}
