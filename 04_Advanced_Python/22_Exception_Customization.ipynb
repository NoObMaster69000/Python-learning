{
 "cells": [
  {
   "cell_type": "markdown",
   "metadata": {},
   "source": [
    "# 🔴 22. Exception Customization\n",
    "\n",
    "**Goal:** Learn to create your own custom exception types to make your code more descriptive and easier to debug.\n",
    "\n",
    "While Python has a rich hierarchy of built-in exceptions, sometimes it's useful to create your own. A custom exception can make your code more readable by describing a specific error condition in your application's domain.\n",
    "\n",
    "This notebook covers:\n",
    "1.  **Why Create Custom Exceptions?**\n",
    "2.  **How to Define a Custom Exception.**\n",
    "3.  **A Practical Example.**"
   ]
  },
  {
   "cell_type": "markdown",
   "metadata": {},
   "source": [
    "### 1. Why Create Custom Exceptions?\n",
    "\n",
    "- **Clarity:** A custom exception like `InsufficientFundsError` is much more descriptive than a generic `ValueError`.\n",
    "- **Hierarchy:** You can create a hierarchy of custom exceptions to handle different errors with varying levels of specificity.\n",
    "- **Domain-Specific Logic:** It allows you to signal errors that are specific to your application's logic, not just general programming errors."
   ]
  },
  {
   "cell_type": "markdown",
   "metadata": {},
   "source": [
    "---"
   ]
  },
  {
   "cell_type": "markdown",
   "metadata": {},
   "source": [
    "### 2. How to Define a Custom Exception\n",
    "\n",
    "Creating a custom exception is as simple as creating a new class that inherits from Python's base `Exception` class (or another more specific exception)."
   ]
  },
  {
   "cell_type": "code",
   "execution_count": null,
   "metadata": {},
   "outputs": [],
   "source": [
    "# Define a custom exception\n",
    "class MyCustomError(Exception):\n",
    "    \"\"\"A base class for custom exceptions in this application.\"\"\"\n",
    "    pass\n",
    "\n",
    "# Define a more specific custom exception that inherits from our base one\n",
    "class InvalidDataError(MyCustomError):\n",
    "    \"\"\"Raised when the input data is invalid.\"\"\"\n",
    "    def __init__(self, message=\"The data provided is not in the correct format.\"):\n",
    "        self.message = message\n",
    "        super().__init__(self.message)\n",
    "\n",
    "# Raise the exception\n",
    "try:\n",
    "    raise InvalidDataError(\"The user ID must be an integer.\")\n",
    "except InvalidDataError as e:\n",
    "    print(f\"Caught a specific custom error: {e}\")"
   ]
  },
  {
   "cell_type": "markdown",
   "metadata": {},
   "source": [
    "---"
   ]
  },
  {
   "cell_type": "markdown",
   "metadata": {},
   "source": [
    "### 3. A Practical Example: Bank Account\n",
    "\n",
    "Let's revisit the `BankAccount` example from the OOP lesson and make it more robust with custom exceptions."
   ]
  },
  {
   "cell_type": "code",
   "execution_count": null,
   "metadata": {},
   "outputs": [],
   "source": [
    "# 1. Define the custom exceptions\n",
    "class BankingError(Exception):\n",
    "    \"\"\"A base class for all banking-related errors.\"\"\"\n",
    "    pass\n",
    "\n",
    "class InsufficientFundsError(BankingError):\n",
    "    \"\"\"Raised when a withdrawal is attempted for more than the available balance.\"\"\"\n",
    "    def __init__(self, balance, amount):\n",
    "        self.balance = balance\n",
    "        self.amount = amount\n",
    "        self.message = f\"Attempted to withdraw ${amount} with only ${balance} available.\"\n",
    "        super().__init__(self.message)\n",
    "        \n",
    "class InvalidDepositError(BankingError):\n",
    "    \"\"\"Raised when a negative amount is deposited.\"\"\"\n",
    "    pass\n",
    "\n",
    "# 2. Use them in our class\n",
    "class BankAccount:\n",
    "    def __init__(self, balance=0):\n",
    "        self.balance = balance\n",
    "        \n",
    "    def deposit(self, amount):\n",
    "        if amount <= 0:\n",
    "            raise InvalidDepositError(\"Deposit amount must be positive.\")\n",
    "        self.balance += amount\n",
    "        print(f\"Deposited ${amount}. New balance: ${self.balance}\")\n",
    "        \n",
    "    def withdraw(self, amount):\n",
    "        if amount > self.balance:\n",
    "            raise InsufficientFundsError(self.balance, amount)\n",
    "        self.balance -= amount\n",
    "        print(f\"Withdrew ${amount}. New balance: ${self.balance}\")\n",
    "\n",
    "# 3. Handle them in our application code\n",
    "my_account = BankAccount(100)\n",
    "\n",
    "try:\n",
    "    my_account.deposit(50)\n",
    "    my_account.withdraw(200) # This will raise an error\n",
    "except InsufficientFundsError as e:\n",
    "    print(f\"\\nTransaction failed! {e.message}\")\n",
    "except InvalidDepositError as e:\n",
    "    print(f\"\\nTransaction failed! {e}\")\n",
    "except BankingError as e:\n",
    "    print(f\"\\nA general banking error occurred: {e}\")\n",
    "\n",
    "print(f\"\\nFinal balance: ${my_account.balance}\")"
   ]
  },
  {
   "cell_type": "markdown",
   "metadata": {},
   "source": [
    "---"
   ]
  },
  {
   "cell_type": "markdown",
   "metadata": {},
   "source": [
    "### ✍️ Exercises"
   ]
  },
  {
   "cell_type": "markdown",
   "metadata": {},
   "source": [
    "**Exercise 1:** Define a custom exception `InvalidURLError`. Write a function `fetch_url(url)` that raises this error if the `url` does not start with `\"http://\"` or `\"https://\"`."
   ]
  },
  {
   "cell_type": "code",
   "execution_count": null,
   "metadata": {},
   "outputs": [],
   "source": [
    "# Your code here\n",
    "\n",
    "# Test it\n",
    "try:\n",
    "    fetch_url(\"ftp://example.com\")\n",
    "except InvalidURLError as e:\n",
    "    print(f\"Error: {e}\")"
   ]
  },
  {
   "cell_type": "markdown",
   "metadata": {},
   "source": [
    "---"
   ]
  },
  {
   "cell_type": "markdown",
   "metadata": {},
   "source": [
    "Custom exceptions make your program's error-handling logic much more explicit and easier to maintain.\n",
    "\n",
    "**Next up: Working with Libraries.**"
   ]
  }
 ],
 "metadata": {
  "kernelspec": {
   "display_name": "Python 3",
   "language": "python",
   "name": "python3"
  },
  "language_info": {
   "codemirror_mode": {
    "name": "ipython",
    "version": 3
   },
   "file_extension": ".py",
   "mimetype": "text/x-python",
   "name": "python",
   "nbconvert_exporter": "python",
   "pygments_lexer": "ipython3",
   "version": "3.9.7"
  }
 },
 "nbformat": 4,
 "nbformat_minor": 2
}
